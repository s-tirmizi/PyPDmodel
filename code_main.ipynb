{
 "cells": [
  {
   "cell_type": "markdown",
   "metadata": {},
   "source": [
    "# Simulation of a crack growth in a thick square plate based on Peridynamic Theory"
   ]
  },
  {
   "cell_type": "markdown",
   "metadata": {},
   "source": [
    "Silling, S. A., & Askari, E. (2005). *A meshfree method based on the peridynamic model of solid mechanics*. *Computers & Structures, 83*(17-18), 1526-1535. https://doi.org/10.1016/j.compstruc.2004.11.026"
   ]
  },
  {
   "cell_type": "markdown",
   "metadata": {},
   "source": [
    "## Setup"
   ]
  },
  {
   "cell_type": "markdown",
   "metadata": {},
   "source": [
    "### Setup Python Modules"
   ]
  },
  {
   "cell_type": "markdown",
   "metadata": {},
   "source": [
    "In this section, we will import the python libraries:\n",
    "\n",
    "- **NumPy**: This library is fundamental for numerical computations in Python. It provides support for arrays, matrices, and many mathematical functions that operate on these data structures.\n",
    "- **Matplotlib**: A plotting library for creating static, animated, and interactive visualizations in Python. It's particularly useful for generating plots, histograms, and other types of charts."
   ]
  },
  {
   "cell_type": "code",
   "execution_count": 56,
   "metadata": {},
   "outputs": [],
   "source": [
    "import numpy as np  # Importing the NumPy library for numerical operations and handling arrays\n",
    "import matplotlib.pyplot as plt  # Importing the Pyplot module from Matplotlib for plotting and visualizations\n",
    "import pandas as pd\n",
    "import seaborn as sns"
   ]
  },
  {
   "cell_type": "markdown",
   "metadata": {},
   "source": [
    "## Parameters"
   ]
  },
  {
   "cell_type": "markdown",
   "metadata": {},
   "source": [
    "### Consistency of Units in Calculations\n",
    "\n",
    "To avoid errors in our calculations, we will adhere to a consistent set of units for the following physical quanities:\n",
    "\n",
    "- Length/Distance: millimeters (mm)\n",
    "- Mass: kilograms (kg)\n",
    "- Time: microseconds (μs)"
   ]
  },
  {
   "cell_type": "code",
   "execution_count": 2,
   "metadata": {},
   "outputs": [],
   "source": [
    "rho = 8e-6 #material density\n",
    "Young_modulus = 19578.55  # Everything in kg and mm\n",
    "nu = 0.3 #Poisson's Ratio\n",
    "K = Young_modulus/(3.0*(1-2.0*nu))\n",
    "horizon = 1.6\n",
    "s0 = 0.02\n",
    "total_time = 15\n",
    "del_T = 0.5\n",
    "time_steps = int(total_time/del_T)"
   ]
  },
  {
   "cell_type": "markdown",
   "metadata": {},
   "source": [
    "<img src=\"fig5.png\" alt=\"Velocity applied to plate horizontal edges\" width=\"600\">"
   ]
  },
  {
   "cell_type": "code",
   "execution_count": 3,
   "metadata": {},
   "outputs": [],
   "source": [
    "u_applied_05 = np.linspace(0.0,2e4,time_steps//3)\n",
    "u_applied_510 = np.linspace(2e4,0,time_steps//3)\n",
    "u_applied_1015 = np.linspace(0,0,time_steps//3)\n",
    "u_applied = np.concatenate((u_applied_05, u_applied_510, u_applied_1015))"
   ]
  },
  {
   "cell_type": "markdown",
   "metadata": {},
   "source": [
    "## Generating Meshfree Geometry"
   ]
  },
  {
   "cell_type": "code",
   "execution_count": 4,
   "metadata": {},
   "outputs": [],
   "source": [
    "def Create_geometry():\n",
    "    # Define the number of divisions along the x and y axes\n",
    "    nx = 50 # Number of divisions in the x-direction\n",
    "    ny = 50 # Number of divisions in the y-direction\n",
    "\n",
    "     # Define the minimum and maximum coordinates for x and y axes\n",
    "    x_min = 2.0     # Minimum x-coordinate (in mm)\n",
    "    x_max = 48.0    # Maximum x-coordinate (in mm)\n",
    "    y_min = 2.0     # Minimum y-coordinate (in mm)\n",
    "    y_max = 48.0    # Maximum y-coordinate (in mm)\n",
    "\n",
    "    # Generate linearly spaced coordinates for x and y axes\n",
    "    x_coord = np.linspace(x_min,x_max, nx)  # x-coordinates\n",
    "    y_coord = np.linspace(y_min, y_max, ny) # y-coordinates\n",
    "\n",
    "    # Calculate the total number of nodes\n",
    "    nnodes = nx*ny # Total number of nodes in the grid\n",
    "\n",
    "    # Initialize an array to hold the coordinates of all nodes\n",
    "    coord_array = np.zeros((nnodes,2)) # Array to store x and y coordinates of each node\n",
    "\n",
    "    # Calculate the volume of the node, assuming a thickness of 1 mm\n",
    "    vol = (x_coord[1] - x_coord[0]) * (y_coord[1] - y_coord[0]) * 1.0 \n",
    "\n",
    "     # Initialize lists to store the indices of top and bottom nodes\n",
    "    top_nodes = []\n",
    "    bottom_nodes = []\n",
    "    count = 0\n",
    "\n",
    "    # Loop through all the nodes and identify boundary nodes\n",
    "    for i in range(nx):\n",
    "        for k in range(ny):\n",
    "            coord_array[count,0] = x_coord[k] # Fetch x-coordinate of current node\n",
    "            coord_array[count, 1] = y_coord[i] # Fetch x-coordinate of current node\n",
    "            \n",
    "            # Identify and store nodes on the top boundary (y = y_max)\n",
    "            if y_coord[i] == y_max:\n",
    "                top_nodes.append(count)\n",
    "\n",
    "            # Identify and store nodes on the bottom boundary (y = y_min)\n",
    "            if y_coord[i] == y_min:\n",
    "                bottom_nodes.append(count)\n",
    "            count = count + 1\n",
    "\n",
    "    # Return the coordinate array, top and bottom node lists, total number of nodes, and node volume\n",
    "    return coord_array, top_nodes, bottom_nodes, nnodes, vol"
   ]
  },
  {
   "cell_type": "code",
   "execution_count": 5,
   "metadata": {},
   "outputs": [],
   "source": [
    "coord_array, top_nodes, bottom_nodes, nnodes, vol = Create_geometry()"
   ]
  },
  {
   "cell_type": "markdown",
   "metadata": {},
   "source": [
    "## Neighborsearch\n",
    "\n",
    "We need to find for each node $x_p$ the neighborhood $H_\\delta(x_p)$ such that $H_\\delta(x_p)=\\lbrace i | \\Vert x_i - x_p \\Vert \\leq \\delta \\rbrace$."
   ]
  },
  {
   "cell_type": "code",
   "execution_count": 6,
   "metadata": {},
   "outputs": [],
   "source": [
    "def Get_nodes_in_horizon(coord_array, nnodes, horizon):\n",
    "\n",
    "    # Initialize an array to store the indices of nodes within the horizon for each node\n",
    "    nodal_array = np.zeros((nnodes, 50)).astype(int)\n",
    "\n",
    "    # Loop over all nodes to find neighbors within the horizon\n",
    "    for i in range(nnodes):\n",
    "        count = 0\n",
    "\n",
    "        # Loop over all nodes to check their distance from the current node i\n",
    "        for k in range(nnodes):\n",
    "\n",
    "            if k!=i: # Skip the comparison with the same node\n",
    "                x_0 = coord_array[i,0]    # fetch x-coordinate of node i\n",
    "                y_0 = coord_array[i,1]    # fetch y-coordinate of node i\n",
    "                x_1 = coord_array[k,0]    # fetch x-coordinate of node k\n",
    "                y_1 = coord_array[k,1]    # fetch y-coordinate of node k\n",
    "                R = horizon\n",
    "\n",
    "                # Calculate the distance between nodes i and k\n",
    "                dist = (x_1 - x_0)**2.0 + (y_1 - y_0)**2.0\n",
    "\n",
    "                # Check if node k is within the horizon of node i\n",
    "                if dist <= R**2.0:\n",
    "                    nodal_array[i,count] = k  # Store the index of node k in the nodal array for node i\n",
    "                    count = count + 1 \n",
    "\n",
    "    return nodal_array"
   ]
  },
  {
   "cell_type": "code",
   "execution_count": 7,
   "metadata": {},
   "outputs": [],
   "source": [
    "nodal_connectivity = Get_nodes_in_horizon(coord_array, nnodes, horizon)"
   ]
  },
  {
   "cell_type": "code",
   "execution_count": 14,
   "metadata": {},
   "outputs": [],
   "source": [
    "# Initialize an array to store displacement vectors for each node at every time step\n",
    "u_array_store = np.zeros((time_steps,nnodes,2))\n",
    "\n",
    "# Initialize an array to store the current displacement vector for each node\n",
    "u_array_current = np.zeros_like(coord_array)\n",
    "\n",
    "current_time = 0\n",
    "\n",
    "\n",
    "for n in range(time_steps):\n",
    "    print('Time step:     ', n)\n",
    "    \n",
    "    # Increment the current time by the time step size\n",
    "    current_time = current_time + del_T\n",
    "\n",
    "    # Apply displacement to top and bottom nodes according to the applied displacement at this time step\n",
    "    u_array_current[top_nodes,1] = u_applied[n]\n",
    "    u_array_current[bottom_nodes,1] = -u_applied[n]\n",
    "\n",
    "    # Loop over each node to calculate the new displacement based on nodal connectivity\n",
    "    for i in range(nnodes):\n",
    "\n",
    "        # Identify connected nodes for the current node i\n",
    "        connected_nodes = np.nonzero(nodal_connectivity[i, :])[0]\n",
    "\n",
    "        # Ensure that the connectivity includes node i itself if it has no connections\n",
    "        if nodal_connectivity[i,0]==0:\n",
    "            np.concatenate((np.zeros((1,)), connected_nodes))\n",
    "\n",
    "        # Initialize sums for calculating acceleration components\n",
    "        sum_term_x = 0.0\n",
    "        sum_term_y = 0.0\n",
    "\n",
    "        # Loop over all connected nodes to\n",
    "        for p in range(len(connected_nodes)):\n",
    "\n",
    "            # Calculate relative displacement (eta) between node i and connected node p\n",
    "            eta_x = u_array_current[nodal_connectivity[i,connected_nodes[p]],0] - u_array_current[i,0]\n",
    "            eta_y = u_array_current[nodal_connectivity[i,connected_nodes[p]],1] - u_array_current[i,1]\n",
    "\n",
    "            # Calculate relative position vector (ksi) between node i and connected node p\n",
    "            ksi_x = coord_array[nodal_connectivity[i,connected_nodes[p]],0] - coord_array[i,0]\n",
    "            ksi_y = coord_array[nodal_connectivity[i,connected_nodes[p]],1] - coord_array[i,1]\n",
    "\n",
    "            # Calculate norms (magnitudes) of eta and ksi\n",
    "            eta_norm = np.sqrt(eta_x**2.0 + eta_y**2.0)\n",
    "            ksi_norm = np.sqrt(ksi_x ** 2.0 + ksi_y ** 2.0)\n",
    "\n",
    "            # Calculate eta + ksi vector and its norm\n",
    "            eta_x_plus_ksi_x = eta_x + ksi_x\n",
    "            eta_y_plus_ksi_y = eta_y + ksi_y\n",
    "            eta_plus_ksi_norm = np.sqrt(eta_x_plus_ksi_x**2.0 + eta_y_plus_ksi_y**2.0)\n",
    "            \n",
    "            # Calculate the material constant c based on bulk modulus K and horizon distance    \n",
    "            c = (18.0 * K) / (np.pi * horizon ** 4.0)\n",
    "\n",
    "            # Calculate the stretch s\n",
    "            s = ( eta_plus_ksi_norm - ksi_norm ) / ksi_norm\n",
    "\n",
    "            # Determine the damage factor mu based on a threshold s0\n",
    "            if s>s0:\n",
    "                mu = 0.0 # Set mu to 0 if stretch exceeds threshold, representing damage\n",
    "            else:\n",
    "                mu = 1.0 # Set mu to 1 if no damage occurs\n",
    "\n",
    "            # Calculate the contribution to acceleration in x and y directions\n",
    "            u_double_dot_x_temp = (eta_x_plus_ksi_x/eta_plus_ksi_norm) * c * s * mu\n",
    "            u_double_dot_y_temp = (eta_y_plus_ksi_y/eta_plus_ksi_norm) * c * s * mu\n",
    "\n",
    "            # Sum up the contributions from all connected nodes\n",
    "            sum_term_x = sum_term_x + u_double_dot_x_temp*vol\n",
    "            sum_term_y = sum_term_y + u_double_dot_y_temp*vol\n",
    "\n",
    "        # Calculate the acceleration components for node i\n",
    "        u_double_dot_x = sum_term_x/rho\n",
    "        u_double_dot_y = sum_term_y/rho"
   ]
  },
  {
   "cell_type": "code",
   "execution_count": null,
   "metadata": {},
   "outputs": [],
   "source": []
  }
 ],
 "metadata": {
  "kernelspec": {
   "display_name": "base",
   "language": "python",
   "name": "python3"
  },
  "language_info": {
   "codemirror_mode": {
    "name": "ipython",
    "version": 3
   },
   "file_extension": ".py",
   "mimetype": "text/x-python",
   "name": "python",
   "nbconvert_exporter": "python",
   "pygments_lexer": "ipython3",
   "version": "3.9.7"
  }
 },
 "nbformat": 4,
 "nbformat_minor": 2
}
