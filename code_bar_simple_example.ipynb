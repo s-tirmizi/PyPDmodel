{
 "cells": [
  {
   "cell_type": "markdown",
   "metadata": {},
   "source": [
    "# Simulation of a crack growth in a thick square plate based on Peridynamic Theory"
   ]
  },
  {
   "cell_type": "markdown",
   "metadata": {},
   "source": [
    "Silling, S. A., & Askari, E. (2005). *A meshfree method based on the peridynamic model of solid mechanics*. *Computers & Structures, 83*(17-18), 1526-1535. https://doi.org/10.1016/j.compstruc.2004.11.026"
   ]
  },
  {
   "cell_type": "markdown",
   "metadata": {},
   "source": [
    "## Setup"
   ]
  },
  {
   "cell_type": "markdown",
   "metadata": {},
   "source": [
    "### Setup Python Modules"
   ]
  },
  {
   "cell_type": "markdown",
   "metadata": {},
   "source": [
    "In this section, we will import the python libraries:\n",
    "\n",
    "- **NumPy**: This library is fundamental for numerical computations in Python. It provides support for arrays, matrices, and many mathematical functions that operate on these data structures.\n",
    "- **Matplotlib**: A plotting library for creating static, animated, and interactive visualizations in Python. It's particularly useful for generating plots, histograms, and other types of charts."
   ]
  },
  {
   "cell_type": "code",
   "execution_count": 8,
   "metadata": {},
   "outputs": [],
   "source": [
    "import numpy as np  # Importing the NumPy library for numerical operations and handling arrays\n",
    "import matplotlib.pyplot as plt  # Importing the Pyplot module from Matplotlib for plotting and visualizations\n",
    "import pandas as pd\n",
    "import seaborn as sns"
   ]
  },
  {
   "cell_type": "markdown",
   "metadata": {},
   "source": [
    "## Parameters"
   ]
  },
  {
   "cell_type": "markdown",
   "metadata": {},
   "source": [
    "### Consistency of Units in Calculations\n",
    "\n",
    "To avoid errors in our calculations, we will adhere to a consistent set of units for the following physical quanities:\n",
    "\n",
    "- Length/Distance: millimeters (mm)\n",
    "- Mass: kilograms (kg)\n",
    "- Time: microseconds (μs)"
   ]
  },
  {
   "cell_type": "code",
   "execution_count": 9,
   "metadata": {},
   "outputs": [],
   "source": [
    "rho = 8e-6 #material density\n",
    "Young_modulus = 19578.55  # Everything in kg and mm\n",
    "nu = 0.3 #Poisson's Ratio\n",
    "K = Young_modulus/(3.0*(1-2.0*nu))\n",
    "horizon = 1.6\n",
    "s0 = 0.02\n",
    "total_time = 15\n",
    "del_T = .5\n",
    "time_steps = int(total_time/del_T)"
   ]
  },
  {
   "cell_type": "markdown",
   "metadata": {},
   "source": [
    "<img src=\"fig5.png\" alt=\"Velocity applied to plate horizontal edges\" width=\"600\">"
   ]
  },
  {
   "cell_type": "code",
   "execution_count": 10,
   "metadata": {},
   "outputs": [
    {
     "name": "stdout",
     "output_type": "stream",
     "text": [
      "[ 0.02  0.02  0.02  0.02  0.02  0.02  0.02  0.02  0.02  0.02 -0.02 -0.02\n",
      " -0.02 -0.02 -0.02 -0.02 -0.02 -0.02 -0.02 -0.02  0.    0.    0.    0.\n",
      "  0.    0.    0.    0.    0.    0.  ]\n"
     ]
    }
   ],
   "source": [
    "\"\"\"\n",
    "    velocity is given as boundary condition, therefore, convert it to displacement first.\n",
    "\"\"\"\n",
    "u_applied_05 = np.linspace(2e-2,2e-2,time_steps//3)\n",
    "u_applied_510 = np.linspace(-2e-2,-2e-2,time_steps//3)\n",
    "u_applied_1015 = np.linspace(0,0,time_steps//3)\n",
    "u_applied = np.concatenate((u_applied_05, u_applied_510, u_applied_1015))\n",
    "print(u_applied)\n",
    "#where u is displacement at the boundaries"
   ]
  },
  {
   "cell_type": "markdown",
   "metadata": {},
   "source": [
    "## Generating Meshfree Geometry"
   ]
  },
  {
   "cell_type": "code",
   "execution_count": 26,
   "metadata": {},
   "outputs": [],
   "source": [
    "\"\"\"\n",
    "    -------------------------\n",
    "    | 1 | 2 | 3 | 4 | 5 | 6 |\n",
    "    -------------------------  \n",
    "\"\"\"\n",
    "\n",
    "# I do not need y in this example.\n",
    "# INdex should only be 1\n",
    "\n",
    "ntotal = 6\n",
    "\n",
    "x_min = 2\n",
    "x_max = 12\n",
    "\n",
    "x_coord = np.linspace(x_min, x_max, ntotal)\n",
    "\n",
    "nnodes = ntotal\n",
    "\n",
    "coord_array = np.zeros((nnodes, 1))\n",
    "\n",
    "vol = (x_coord[1] - x_coord[0]) * 1.0\n",
    "\n",
    "top_nodes = []\n",
    "bottom_nodes = []\n",
    "count = 0\n",
    "\n",
    "for i in range(ntotal):\n",
    "    coord_array[]"
   ]
  },
  {
   "cell_type": "code",
   "execution_count": 27,
   "metadata": {},
   "outputs": [
    {
     "data": {
      "text/plain": [
       "2.0"
      ]
     },
     "execution_count": 27,
     "metadata": {},
     "output_type": "execute_result"
    }
   ],
   "source": [
    "vol"
   ]
  },
  {
   "cell_type": "code",
   "execution_count": 59,
   "metadata": {},
   "outputs": [],
   "source": [
    "def Create_geometry():\n",
    "    # Define the number of divisions along the x and y axes\n",
    "    nx = 4 # Number of divisions in the x-direction\n",
    "    ny = 4 # Number of divisions in the y-direction\n",
    "\n",
    "     # Define the minimum and maximum coordinates for x and y axes\n",
    "    x_min = 2     # Minimum x-coordinate (in mm)\n",
    "    x_max = 24    # Maximum x-coordinate (in mm)\n",
    "    y_min = 2     # Minimum y-coordinate (in mm)\n",
    "    y_max = 24    # Maximum y-coordinate (in mm)\n",
    "\n",
    "    # Generate linearly spaced coordinates for x and y axes\n",
    "    x_coord = np.linspace(x_min,x_max, nx)  # x-coordinates\n",
    "    y_coord = np.linspace(y_min, y_max, ny) # y-coordinates\n",
    "\n",
    "    # Calculate the total number of nodes\n",
    "    nnodes = nx*ny # Total number of nodes in the grid\n",
    "\n",
    "    # Initialize an array to hold the coordinates of all nodes\n",
    "    coord_array = np.zeros((nnodes,2)) # Array to store x and y coordinates of each node\n",
    "\n",
    "    # Calculate the volume of the node, assuming a thickness of 1 mm\n",
    "    vol = (x_coord[1] - x_coord[0]) * (y_coord[1] - y_coord[0]) * 1.0 \n",
    "\n",
    "     # Initialize lists to store the indices of top and bottom nodes\n",
    "    top_nodes = []\n",
    "    bottom_nodes = []\n",
    "    count = 0\n",
    "\n",
    "    # Loop through all the nodes and identify boundary nodes\n",
    "    for i in range(nx):\n",
    "        for k in range(ny):\n",
    "            coord_array[count,0] = x_coord[k] # Fetch x-coordinate of current node\n",
    "            coord_array[count, 1] = y_coord[i] # Fetch y-coordinate of current node\n",
    "            \n",
    "            # Identify and store nodes on the top boundary (y = y_max)\n",
    "            if y_coord[i] == y_max:\n",
    "                top_nodes.append(count)\n",
    "\n",
    "            # Identify and store nodes on the bottom boundary (y = y_min)\n",
    "            if y_coord[i] == y_min:\n",
    "                bottom_nodes.append(count)\n",
    "            count = count + 1\n",
    "\n",
    "    # Return the coordinate array, top and bottom node lists, total number of nodes, and node volume\n",
    "    return coord_array, top_nodes, bottom_nodes, nnodes, vol, nx, ny"
   ]
  },
  {
   "cell_type": "code",
   "execution_count": 60,
   "metadata": {},
   "outputs": [],
   "source": [
    "coord_array, top_nodes, bottom_nodes, nnodes, vol, nx, ny = Create_geometry()"
   ]
  },
  {
   "cell_type": "code",
   "execution_count": 61,
   "metadata": {},
   "outputs": [
    {
     "data": {
      "text/plain": [
       "(16, 2)"
      ]
     },
     "execution_count": 61,
     "metadata": {},
     "output_type": "execute_result"
    }
   ],
   "source": [
    "coord_array.shape"
   ]
  },
  {
   "cell_type": "code",
   "execution_count": 64,
   "metadata": {},
   "outputs": [
    {
     "data": {
      "image/png": "[encoded data removed]",
      "text/plain": [
       "<Figure size 720x720 with 1 Axes>"
      ]
     },
     "metadata": {
      "needs_background": "light"
     },
     "output_type": "display_data"
    }
   ],
   "source": [
    "coordinates = coord_array\n",
    "\n",
    "# Reshape the array into a 6x6 grid\n",
    "grid_coordinates = coordinates.reshape((nx, ny, 2))\n",
    "\n",
    "# Set up the plot\n",
    "plt.figure(figsize=(10, 10))\n",
    "plt.xticks(ticks=np.arange(nx), labels=np.arange(1, nx+1))\n",
    "plt.yticks(ticks=np.arange(ny), labels=np.arange(1, ny+1))\n",
    "plt.grid(True)\n",
    "\n",
    "# Annotate each cell with the (x, y) coordinates\n",
    "for i in range(nx):\n",
    "    for j in range(ny):\n",
    "        x, y = grid_coordinates[i, j]\n",
    "        plt.text(j+0.5, i+0.5, f\"({x:.1f}, {y:.1f})\", ha='center', va='center', fontsize=8)\n",
    "\n",
    "# Invert the y-axis to match the grid layout\n",
    "plt.gca().invert_yaxis()\n",
    "\n",
    "# Add title\n",
    "plt.title(\"Grid of (x, y) Coordinates\")\n",
    "\n",
    "# Show the plot\n",
    "plt.show()"
   ]
  },
  {
   "cell_type": "markdown",
   "metadata": {},
   "source": [
    "## Neighborsearch\n",
    "\n",
    "We need to find for each node $x_p$ the neighborhood $H_\\delta(x_p)$ such that $H_\\delta(x_p)=\\lbrace i | \\Vert x_i - x_p \\Vert \\leq \\delta \\rbrace$."
   ]
  },
  {
   "cell_type": "code",
   "execution_count": 67,
   "metadata": {},
   "outputs": [],
   "source": [
    "def Get_nodes_in_horizon(coord_array, nnodes, horizon):\n",
    "\n",
    "    # Initialize an array to store the indices of nodes within the horizon for each node\n",
    "    nodal_array = np.zeros((nnodes, 6)).astype(int)\n",
    "    print(nodal_array.shape)\n",
    "\n",
    "    # Loop over all nodes to find neighbors within the horizon\n",
    "    for i in range(nnodes):\n",
    "        count = 0\n",
    "\n",
    "        # Loop over all nodes to check their distance from the current node i\n",
    "        for k in range(nnodes):\n",
    "\n",
    "            if k!=i: # Skip the comparison with the same node\n",
    "                x_0 = coord_array[i,0]    # fetch x-coordinate of node i\n",
    "                y_0 = coord_array[i,1]    # fetch y-coordinate of node i\n",
    "                x_1 = coord_array[k,0]    # fetch x-coordinate of node k\n",
    "                y_1 = coord_array[k,1]    # fetch y-coordinate of node k\n",
    "                R = horizon\n",
    "\n",
    "                # Calculate the distance between nodes i and k\n",
    "                dist = (x_1 - x_0)**2.0 + (y_1 - y_0)**2.0\n",
    "\n",
    "                # Check if node k is within the horizon of node i\n",
    "                if dist <= R**2.0:\n",
    "                    nodal_array[i,count] = k  # Store the index of node k in the nodal array for node i\n",
    "                    count = count + 1 \n",
    "\n",
    "    return nodal_array"
   ]
  },
  {
   "cell_type": "code",
   "execution_count": 68,
   "metadata": {},
   "outputs": [
    {
     "name": "stdout",
     "output_type": "stream",
     "text": [
      "(16, 6)\n"
     ]
    }
   ],
   "source": [
    "nodal_connectivity = Get_nodes_in_horizon(coord_array, nnodes, horizon)"
   ]
  },
  {
   "cell_type": "code",
   "execution_count": 69,
   "metadata": {},
   "outputs": [
    {
     "name": "stdout",
     "output_type": "stream",
     "text": [
      "[0 0 0 0 0 0 0 0 0 0 0 0 0 0 0 0]\n"
     ]
    },
    {
     "data": {
      "image/png": "[encoded data removed]",
      "text/plain": [
       "<Figure size 720x432 with 1 Axes>"
      ]
     },
     "metadata": {
      "needs_background": "light"
     },
     "output_type": "display_data"
    }
   ],
   "source": [
    "# Count the number of valid neighbors for each node (i.e., non-zero elements)\n",
    "num_neighbors = np.sum(nodal_connectivity !=0, axis=1)\n",
    "\n",
    "print(num_neighbors)\n",
    "\n",
    "# Set up the plot\n",
    "plt.figure(figsize=(10, 6))\n",
    "\n",
    "# Create a seaborn histogram (count plot)\n",
    "sns.histplot(num_neighbors, bins=np.arange(num_neighbors.min(), num_neighbors.max() + 2) - 0.5, kde=False, color='blue')\n",
    "\n",
    "# Set the x-ticks to be at the center of each bar\n",
    "plt.xticks(ticks=np.arange(num_neighbors.min(), num_neighbors.max() + 1))\n",
    "\n",
    "# Add title and labels\n",
    "plt.title('Histogram of Number of Neighbors per Node')\n",
    "plt.xlabel('Number of Neighbors')\n",
    "plt.ylabel('Frequency')\n",
    "\n",
    "# Show the plot\n",
    "plt.show()"
   ]
  },
  {
   "cell_type": "code",
   "execution_count": 8,
   "metadata": {},
   "outputs": [
    {
     "name": "stdout",
     "output_type": "stream",
     "text": [
      "Time step:      0\n",
      "Time step:      1\n",
      "Time step:      2\n",
      "Time step:      3\n",
      "Time step:      4\n",
      "Time step:      5\n",
      "Time step:      6\n",
      "Time step:      7\n",
      "Time step:      8\n",
      "Time step:      9\n",
      "Time step:      10\n",
      "Time step:      11\n",
      "Time step:      12\n",
      "Time step:      13\n",
      "Time step:      14\n",
      "Time step:      15\n",
      "Time step:      16\n",
      "Time step:      17\n",
      "Time step:      18\n",
      "Time step:      19\n",
      "Time step:      20\n",
      "Time step:      21\n",
      "Time step:      22\n",
      "Time step:      23\n",
      "Time step:      24\n",
      "Time step:      25\n",
      "Time step:      26\n",
      "Time step:      27\n",
      "Time step:      28\n",
      "Time step:      29\n"
     ]
    }
   ],
   "source": [
    "# # Initialize an array to store displacement vectors for each node at every time step\n",
    "# u_array_store = np.zeros((time_steps,nnodes,2))\n",
    "\n",
    "# # Initialize an array to store the current displacement vector for each node\n",
    "# u_array_current = np.zeros_like(coord_array)\n",
    "\n",
    "# current_time = 0\n",
    "\n",
    "\n",
    "# for n in range(time_steps):\n",
    "#     print('Time step:     ', n)\n",
    "    \n",
    "#     # Increment the current time by the time step size\n",
    "#     current_time = current_time + del_T\n",
    "\n",
    "#     # Apply displacement to top and bottom nodes according to the applied displacement at this time step\n",
    "#     u_array_current[top_nodes,1] = u_applied[n]\n",
    "#     u_array_current[bottom_nodes,1] = -u_applied[n]\n",
    "\n",
    "#     # Loop over each node to calculate the new displacement based on nodal connectivity\n",
    "#     for i in range(nnodes):\n",
    "\n",
    "#         # Identify connected nodes for the current node i\n",
    "#         connected_nodes = np.nonzero(nodal_connectivity[i, :])[0]\n",
    "\n",
    "#         # Ensure that the connectivity includes node i itself if it has no connections\n",
    "#         if nodal_connectivity[i,0]==0:\n",
    "#             np.concatenate((np.zeros((1,)), connected_nodes))\n",
    "\n",
    "#         # Initialize sums for calculating acceleration components\n",
    "#         sum_term_x = 0.0\n",
    "#         sum_term_y = 0.0\n",
    "\n",
    "#         # Loop over all connected nodes to\n",
    "#         for p in range(len(connected_nodes)):\n",
    "\n",
    "#             # Calculate relative displacement (eta) between node i and connected node p\n",
    "#             eta_x = u_array_current[nodal_connectivity[i,connected_nodes[p]],0] - u_array_current[i,0]\n",
    "#             eta_y = u_array_current[nodal_connectivity[i,connected_nodes[p]],1] - u_array_current[i,1]\n",
    "\n",
    "#             # Calculate relative position vector (ksi) between node i and connected node p\n",
    "#             ksi_x = coord_array[nodal_connectivity[i,connected_nodes[p]],0] - coord_array[i,0]\n",
    "#             ksi_y = coord_array[nodal_connectivity[i,connected_nodes[p]],1] - coord_array[i,1]\n",
    "\n",
    "#             # Calculate norms (magnitudes) of eta and ksi\n",
    "#             eta_norm = np.sqrt(eta_x**2.0 + eta_y**2.0)\n",
    "#             ksi_norm = np.sqrt(ksi_x ** 2.0 + ksi_y ** 2.0)\n",
    "\n",
    "#             # Calculate eta + ksi vector and its norm\n",
    "#             eta_x_plus_ksi_x = eta_x + ksi_x\n",
    "#             eta_y_plus_ksi_y = eta_y + ksi_y\n",
    "#             eta_plus_ksi_norm = np.sqrt(eta_x_plus_ksi_x**2.0 + eta_y_plus_ksi_y**2.0)\n",
    "            \n",
    "#             # Calculate the material constant c based on bulk modulus K and horizon distance    \n",
    "#             c = (18.0 * K) / (np.pi * horizon ** 4.0)\n",
    "\n",
    "#             # Calculate the stretch s\n",
    "#             s = ( eta_plus_ksi_norm - ksi_norm ) / ksi_norm\n",
    "\n",
    "#             # Determine the damage factor mu based on a threshold s0\n",
    "#             if s>s0:\n",
    "#                 mu = 0.0 # Set mu to 0 if stretch exceeds threshold, representing damage\n",
    "#             else:\n",
    "#                 mu = 1.0 # Set mu to 1 if no damage occurs\n",
    "\n",
    "#             # Calculate the contribution to acceleration in x and y directions\n",
    "#             u_double_dot_x_temp = (eta_x_plus_ksi_x/eta_plus_ksi_norm) * c * s * mu\n",
    "#             u_double_dot_y_temp = (eta_y_plus_ksi_y/eta_plus_ksi_norm) * c * s * mu\n",
    "\n",
    "#             # Sum up the contributions from all connected nodes\n",
    "#             sum_term_x = sum_term_x + u_double_dot_x_temp*vol\n",
    "#             sum_term_y = sum_term_y + u_double_dot_y_temp*vol\n",
    "\n",
    "#         # Calculate the acceleration components for node i\n",
    "#         u_double_dot_x = sum_term_x/rho\n",
    "#         u_double_dot_y = sum_term_y/rho"
   ]
  },
  {
   "cell_type": "code",
   "execution_count": 102,
   "metadata": {},
   "outputs": [
    {
     "name": "stdout",
     "output_type": "stream",
     "text": [
      "[0, 1, 2, 3, 4, 5, 6, 7, 8, 9, 10, 11, 12, 13, 14, 15, 16, 17, 18, 19, 20, 21, 22, 23, 24, 25, 26, 27, 28, 29, 30, 31, 32, 33, 34, 35, 36, 37, 38, 39, 40, 41, 42, 43, 44, 45, 46, 47, 48, 49]\n"
     ]
    }
   ],
   "source": [
    "print(bottom_nodes)"
   ]
  },
  {
   "cell_type": "code",
   "execution_count": 103,
   "metadata": {},
   "outputs": [
    {
     "name": "stdout",
     "output_type": "stream",
     "text": [
      "[2450, 2451, 2452, 2453, 2454, 2455, 2456, 2457, 2458, 2459, 2460, 2461, 2462, 2463, 2464, 2465, 2466, 2467, 2468, 2469, 2470, 2471, 2472, 2473, 2474, 2475, 2476, 2477, 2478, 2479, 2480, 2481, 2482, 2483, 2484, 2485, 2486, 2487, 2488, 2489, 2490, 2491, 2492, 2493, 2494, 2495, 2496, 2497, 2498, 2499]\n"
     ]
    }
   ],
   "source": [
    "print(top_nodes)"
   ]
  },
  {
   "cell_type": "code",
   "execution_count": 108,
   "metadata": {},
   "outputs": [
    {
     "name": "stdout",
     "output_type": "stream",
     "text": [
      "[0. 0. 0. 0. 0. 0. 0. 0. 0. 0. 0. 0. 0. 0. 0. 0. 0. 0. 0. 0. 0. 0. 0. 0.\n",
      " 0. 0. 0. 0. 0. 0. 0. 0. 0. 0. 0. 0. 0. 0. 0. 0. 0. 0. 0. 0. 0. 0. 0. 0.\n",
      " 0. 0.]\n"
     ]
    }
   ],
   "source": [
    "print(u_vector_at_current_time_step[bottom_nodes])"
   ]
  },
  {
   "cell_type": "code",
   "execution_count": 97,
   "metadata": {},
   "outputs": [
    {
     "name": "stdout",
     "output_type": "stream",
     "text": [
      "50\n"
     ]
    }
   ],
   "source": [
    "print(len(u_vector_at_current_time_step))"
   ]
  },
  {
   "cell_type": "code",
   "execution_count": 186,
   "metadata": {},
   "outputs": [
    {
     "data": {
      "text/plain": [
       "array([[ 2.        ,  2.        ],\n",
       "       [ 2.93877551,  2.        ],\n",
       "       [ 3.87755102,  2.        ],\n",
       "       ...,\n",
       "       [46.12244898, 48.        ],\n",
       "       [47.06122449, 48.        ],\n",
       "       [48.        , 48.        ]])"
      ]
     },
     "execution_count": 186,
     "metadata": {},
     "output_type": "execute_result"
    }
   ],
   "source": [
    "coord_array"
   ]
  },
  {
   "cell_type": "code",
   "execution_count": 187,
   "metadata": {},
   "outputs": [
    {
     "data": {
      "text/plain": [
       "2.938775510204082"
      ]
     },
     "execution_count": 187,
     "metadata": {},
     "output_type": "execute_result"
    }
   ],
   "source": [
    "coord_array[1][0]"
   ]
  },
  {
   "cell_type": "code",
   "execution_count": 70,
   "metadata": {},
   "outputs": [],
   "source": [
    "## Append an index column to coord_array\n",
    "\n",
    "# Create an index array\n",
    "index_array = np.arange(len(coord_array)).reshape(-1, 1)\n",
    "# Concatenate the index array with the original 2D array\n",
    "idx_coord_array = np.hstack((index_array, coord_array))"
   ]
  },
  {
   "cell_type": "code",
   "execution_count": 71,
   "metadata": {},
   "outputs": [
    {
     "data": {
      "text/plain": [
       "array([0., 2., 2.])"
      ]
     },
     "execution_count": 71,
     "metadata": {},
     "output_type": "execute_result"
    }
   ],
   "source": [
    "idx_coord_array[0]"
   ]
  },
  {
   "cell_type": "code",
   "execution_count": 72,
   "metadata": {},
   "outputs": [
    {
     "ename": "NameError",
     "evalue": "name 'u_vector_at_current_time_step' is not defined",
     "output_type": "error",
     "traceback": [
      "\u001b[1;31m---------------------------------------------------------------------------\u001b[0m",
      "\u001b[1;31mNameError\u001b[0m                                 Traceback (most recent call last)",
      "\u001b[1;32m~\\AppData\\Local\\Temp/ipykernel_44744/1682753012.py\u001b[0m in \u001b[0;36m<module>\u001b[1;34m\u001b[0m\n\u001b[1;32m----> 1\u001b[1;33m \u001b[0mu_vector_at_current_time_step\u001b[0m\u001b[1;33m[\u001b[0m\u001b[1;36m0\u001b[0m\u001b[1;33m,\u001b[0m \u001b[1;36m0\u001b[0m\u001b[1;33m]\u001b[0m\u001b[1;33m\u001b[0m\u001b[1;33m\u001b[0m\u001b[0m\n\u001b[0m",
      "\u001b[1;31mNameError\u001b[0m: name 'u_vector_at_current_time_step' is not defined"
     ]
    }
   ],
   "source": [
    "u_vector_at_current_time_step[0, 0]"
   ]
  },
  {
   "cell_type": "code",
   "execution_count": 86,
   "metadata": {},
   "outputs": [
    {
     "name": "stdout",
     "output_type": "stream",
     "text": [
      "Shape of the initialized displacement vector solution:  (30, 4, 4)\n",
      "Shape of the initialized displacement vector at current time step:  (4, 4)\n",
      "Time Elapsed:  0.5\n",
      "Time Elapsed:  1.0\n",
      "Time Elapsed:  1.5\n",
      "Time Elapsed:  2.0\n",
      "Time Elapsed:  2.5\n",
      "Time Elapsed:  3.0\n",
      "Time Elapsed:  3.5\n",
      "Time Elapsed:  4.0\n",
      "Time Elapsed:  4.5\n",
      "Time Elapsed:  5.0\n",
      "Time Elapsed:  5.5\n",
      "Time Elapsed:  6.0\n",
      "Time Elapsed:  6.5\n",
      "Time Elapsed:  7.0\n",
      "Time Elapsed:  7.5\n",
      "Time Elapsed:  8.0\n",
      "Time Elapsed:  8.5\n",
      "Time Elapsed:  9.0\n",
      "Time Elapsed:  9.5\n",
      "Time Elapsed:  10.0\n",
      "Time Elapsed:  10.5\n",
      "Time Elapsed:  11.0\n",
      "Time Elapsed:  11.5\n",
      "Time Elapsed:  12.0\n",
      "Time Elapsed:  12.5\n",
      "Time Elapsed:  13.0\n",
      "Time Elapsed:  13.5\n",
      "Time Elapsed:  14.0\n",
      "Time Elapsed:  14.5\n"
     ]
    }
   ],
   "source": [
    "# Initialize the three dimensional displacement vector\n",
    "# Properties of u_vector:\n",
    "# contains 2 scalars for the 50x50 displacement vectors for 30 time steps\n",
    "u_vector_solution = np.zeros((time_steps, nx, ny))\n",
    "print(\"Shape of the initialized displacement vector solution: \", u_vector_solution.shape)\n",
    "\n",
    "# below vector is for displacement vector for specific time step n\n",
    "u_vector_at_current_time_step = np.zeros((nx,ny))\n",
    "print(\"Shape of the initialized displacement vector at current time step: \", u_vector_at_current_time_step.shape)\n",
    "\n",
    "u_vector_at_future_time_step = np.zeros((nx, ny))\n",
    "\n",
    "u_vector_at_previous_time_step = np.zeros((nx, ny))\n",
    "\n",
    "\n",
    "# Initialize the damage term\n",
    "# damage_param = [['time_step', 'bonds_broken_per_node]]\n",
    "damage_param = np.zeros((time_steps, 50, 50))\n",
    "\n",
    "#start the loop which goes over all the time steps\n",
    "for n in range(1, time_steps):\n",
    "\n",
    "\n",
    "\n",
    "    #calculate the simulation time elapsed for the current iteration    \n",
    "    time_elapsed = n * del_T\n",
    "\n",
    "    print(\"Time Elapsed: \", time_elapsed)\n",
    "\n",
    "    #We apply the boundary condition to the displacement vectors\n",
    "    \n",
    "    for index in top_nodes:\n",
    "        row = index // nx\n",
    "        column = index % ny\n",
    "        u_vector_at_current_time_step[row, column] = u_applied[n]\n",
    "        \n",
    "    for index in bottom_nodes:\n",
    "        row = index // nx\n",
    "        column = index % ny\n",
    "        u_vector_at_current_time_step[row, column] = -u_applied[n]\n",
    "\n",
    "    loop_break = 0\n",
    "\n",
    "    sum_term = 0 \n",
    "\n",
    "    # Loop over each node to calculate the new displacement based on nodal connectivity\n",
    "    for x in range(nx):\n",
    "\n",
    "        for y in range(ny):\n",
    "\n",
    "            xi = u_vector_at_current_time_step[x, y]\n",
    "\n",
    "            i = np.ravel_multi_index((x, y), u_vector_at_current_time_step.shape)\n",
    "\n",
    "            #print(\"i \", i)\n",
    "\n",
    "            xi_actual_coord_x = idx_coord_array[i][1]\n",
    "            xi_actual_coord_y = idx_coord_array[i][2]\n",
    "\n",
    "            #print(\"i: \",i)\n",
    "        \n",
    "            # Identify connected nodes for the current node (x_i)\n",
    "            connected_nodes = np.nonzero(nodal_connectivity[i, :])[0]\n",
    "            \n",
    "            # Ensure that the connectivity includes node i itself if it has no connections\n",
    "            if nodal_connectivity[i,0]==0:\n",
    "                np.concatenate((np.zeros((1,)), connected_nodes))\n",
    "            \n",
    "            for p in range(len(connected_nodes)):\n",
    "                \n",
    "                #find the difference in coordinates between xi and xp\n",
    "                #eta = xp - xi\n",
    "\n",
    "                #let coordinates be:\n",
    "                xp_index_in_nodal_array = np.unravel_index(nodal_connectivity[i,connected_nodes[p]], (nx,ny))\n",
    "                xp = u_vector_at_current_time_step[xp_index_in_nodal_array]\n",
    "                xi = xi\n",
    "\n",
    "                #print(\"xp: \", xp)\n",
    "                #print(\"xi: \", xi)\n",
    "\n",
    "                xp_actual_coord_x = idx_coord_array[p][1]\n",
    "                xp_actual_coord_y = idx_coord_array[p][2]\n",
    "\n",
    "                #print(\"xi, \", xi_actual_coord_x, xi_actual_coord_y)\n",
    "                #print(\"xp \", xp_actual_coord_x, xp_actual_coord_y)\n",
    "\n",
    "                xi_pair = (xi_actual_coord_x, xi_actual_coord_y)\n",
    "                xp_pair = (xp_actual_coord_x, xp_actual_coord_y)\n",
    "\n",
    "                if xi_pair == xp_pair:\n",
    "                    break\n",
    "\n",
    "                #we got the coordinates for xi and xp now from coord_array\n",
    "\n",
    "                ksi = np.sqrt((xp_actual_coord_x-xi_actual_coord_x)**2 + (xp_actual_coord_y-xi_actual_coord_y)**2)\n",
    "                #print(\"ksi: \", ksi)\n",
    "\n",
    "                eta = xp - xi\n",
    "                #print(\"eta: \", eta)\n",
    "\n",
    "                # Calculate eta\n",
    "                c = (18*K)/(np.pi * horizon**4)\n",
    "\n",
    "                # Calculate the stretch s\n",
    "                s = ((np.abs(ksi+eta)) - np.abs(ksi))/np.abs(ksi)\n",
    "                #print(\"s: \", s)\n",
    "                #print(np.abs(ksi+eta))\n",
    "\n",
    "                if s > s0:\n",
    "\n",
    "                    mu = 0\n",
    "\n",
    "                    #update damage\n",
    "\n",
    "                    damage_param[n, x, y] = damage_param[n, x, y] + 1\n",
    "\n",
    "\n",
    "                else:\n",
    "                    mu = 1\n",
    "\n",
    "                #print(\"ksi+eta\", np.abs(ksi+eta))\n",
    "\n",
    "                \n",
    "\n",
    "                sum_term = sum_term + ((((ksi+eta)/np.abs(ksi+eta)) * c * s * mu)*vol) #+ 9.8e-9 #(body force = 9.8 g/s)\n",
    "                #print(\"sum_term: \", sum_term)\n",
    "\n",
    "            #if loop_break > 1:\n",
    "                #break\n",
    "\n",
    "            loop_break = loop_break + 1\n",
    "        \n",
    "        acceleration = sum_term/rho\n",
    "\n",
    "        #print(\"acceleration: \", acceleration)\n",
    "\n",
    "        u_vector_at_future_time_step[x,y] = (acceleration*del_T**2) + (2*u_vector_at_current_time_step[x,y]) - u_vector_at_previous_time_step[x, y]\n",
    "\n",
    "        u_vector_solution[n, x, y] = u_vector_at_current_time_step[x, y]\n",
    "\n",
    "    u_vector_at_previous_time_step = u_vector_at_current_time_step.copy()\n",
    "    u_vector_at_current_time_step = u_vector_at_future_time_step.copy()\n"
   ]
  },
  {
   "cell_type": "code",
   "execution_count": 87,
   "metadata": {},
   "outputs": [
    {
     "data": {
      "text/plain": [
       "array([[ 0.,  0.,  0., -0.],\n",
       "       [ 0.,  0.,  0.,  0.],\n",
       "       [ 0.,  0.,  0.,  0.],\n",
       "       [ 0.,  0.,  0.,  0.]])"
      ]
     },
     "execution_count": 87,
     "metadata": {},
     "output_type": "execute_result"
    }
   ],
   "source": [
    "u_vector_solution[-1]"
   ]
  },
  {
   "cell_type": "code",
   "execution_count": 88,
   "metadata": {},
   "outputs": [
    {
     "name": "stdout",
     "output_type": "stream",
     "text": [
      "[[ 0.    0.    0.   -0.02]\n",
      " [ 0.    0.    0.    0.  ]\n",
      " [ 0.    0.    0.    0.  ]\n",
      " [ 0.    0.    0.    0.02]]\n"
     ]
    }
   ],
   "source": [
    "with np.printoptions(threshold=np.inf):\n",
    "    print(u_vector_solution[7])"
   ]
  },
  {
   "cell_type": "code",
   "execution_count": 89,
   "metadata": {},
   "outputs": [
    {
     "name": "stdout",
     "output_type": "stream",
     "text": [
      "[ 0.02  0.02  0.02  0.02  0.02  0.02  0.02  0.02  0.02  0.02 -0.02 -0.02\n",
      " -0.02 -0.02 -0.02 -0.02 -0.02 -0.02 -0.02 -0.02  0.    0.    0.    0.\n",
      "  0.    0.    0.    0.    0.    0.  ]\n"
     ]
    }
   ],
   "source": [
    "print(u_applied)"
   ]
  },
  {
   "cell_type": "code",
   "execution_count": 90,
   "metadata": {},
   "outputs": [
    {
     "name": "stdout",
     "output_type": "stream",
     "text": [
      "(array([], dtype=int64), array([], dtype=int64))\n"
     ]
    }
   ],
   "source": [
    "print(np.nonzero(u_vector_at_current_time_step))"
   ]
  },
  {
   "cell_type": "code",
   "execution_count": 91,
   "metadata": {},
   "outputs": [
    {
     "ename": "IndexError",
     "evalue": "index 49 is out of bounds for axis 0 with size 4",
     "output_type": "error",
     "traceback": [
      "\u001b[1;31m---------------------------------------------------------------------------\u001b[0m",
      "\u001b[1;31mIndexError\u001b[0m                                Traceback (most recent call last)",
      "\u001b[1;32m~\\AppData\\Local\\Temp/ipykernel_44744/3574658844.py\u001b[0m in \u001b[0;36m<module>\u001b[1;34m\u001b[0m\n\u001b[1;32m----> 1\u001b[1;33m \u001b[0mu_vector_at_current_time_step\u001b[0m\u001b[1;33m[\u001b[0m\u001b[1;36m49\u001b[0m\u001b[1;33m,\u001b[0m\u001b[1;36m49\u001b[0m\u001b[1;33m]\u001b[0m\u001b[1;33m\u001b[0m\u001b[1;33m\u001b[0m\u001b[0m\n\u001b[0m",
      "\u001b[1;31mIndexError\u001b[0m: index 49 is out of bounds for axis 0 with size 4"
     ]
    }
   ],
   "source": [
    "u_vector_at_current_time_step[49,49]"
   ]
  },
  {
   "cell_type": "code",
   "execution_count": 92,
   "metadata": {},
   "outputs": [
    {
     "data": {
      "image/png": "[encoded data removed]",
      "text/plain": [
       "<Figure size 576x432 with 2 Axes>"
      ]
     },
     "metadata": {
      "needs_background": "light"
     },
     "output_type": "display_data"
    }
   ],
   "source": [
    "import numpy as np\n",
    "import matplotlib.pyplot as plt\n",
    "import seaborn as sns\n",
    "from matplotlib.animation import FuncAnimation, PillowWriter\n",
    "\n",
    "# Assuming 'array' is your data with shape (30, 50, 50)\n",
    "# Set up the figure and axis\n",
    "fig, ax = plt.subplots(figsize=(8, 6))\n",
    "\n",
    "# Initialize the heatmap with the first timestep\n",
    "heatmap = sns.heatmap(damage_param[0, :, :], cmap='seismic', ax=ax)\n",
    "plt.title('Heatmap of Damage Over Time')\n",
    "plt.xlabel('Damage in X-direction')\n",
    "plt.ylabel('Damage in Y-direction')\n",
    "\n",
    "# Function to update the heatmap for each frame in the animation\n",
    "def update(frame):\n",
    "    ax.clear()\n",
    "    heatmap = sns.heatmap(damage_param[frame, :, :], cmap='seismic', ax=ax, cbar=False)\n",
    "    ax.set_title(f'Heatmap of Damage for Time Step {frame + 1}')\n",
    "    ax.set_xlabel('Damage in X-direction')\n",
    "    ax.set_ylabel('Damage in Y-direction')\n",
    "\n",
    "# Create the animation\n",
    "anim = FuncAnimation(fig, update, frames=damage_param.shape[0], interval=200)\n",
    "\n",
    "# Save the animation as a GIF\n",
    "anim.save('damage_animation1.gif', writer=PillowWriter(fps=5))\n",
    "\n",
    "# Alternatively, display the animation\n",
    "plt.show() \n"
   ]
  },
  {
   "cell_type": "code",
   "execution_count": null,
   "metadata": {},
   "outputs": [],
   "source": []
  }
 ],
 "metadata": {
  "kernelspec": {
   "display_name": "base",
   "language": "python",
   "name": "python3"
  },
  "language_info": {
   "codemirror_mode": {
    "name": "ipython",
    "version": 3
   },
   "file_extension": ".py",
   "mimetype": "text/x-python",
   "name": "python",
   "nbconvert_exporter": "python",
   "pygments_lexer": "ipython3",
   "version": "3.9.7"
  }
 },
 "nbformat": 4,
 "nbformat_minor": 2
}
