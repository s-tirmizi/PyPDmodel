{
 "cells": [
  {
   "cell_type": "markdown",
   "metadata": {},
   "source": [
    "# Simulation of a crack growth in a thick square plate based on Peridynamic Theory"
   ]
  },
  {
   "cell_type": "markdown",
   "metadata": {},
   "source": [
    "Silling, S. A., & Askari, E. (2005). *A meshfree method based on the peridynamic model of solid mechanics*. *Computers & Structures, 83*(17-18), 1526-1535. https://doi.org/10.1016/j.compstruc.2004.11.026"
   ]
  },
  {
   "cell_type": "markdown",
   "metadata": {},
   "source": [
    "## Setup"
   ]
  },
  {
   "cell_type": "markdown",
   "metadata": {},
   "source": [
    "### Setup Python Modules"
   ]
  },
  {
   "cell_type": "markdown",
   "metadata": {},
   "source": [
    "In this section, we will import the python libraries:\n",
    "\n",
    "- **NumPy**: This library is fundamental for numerical computations in Python. It provides support for arrays, matrices, and many mathematical functions that operate on these data structures.\n",
    "- **Matplotlib**: A plotting library for creating static, animated, and interactive visualizations in Python. It's particularly useful for generating plots, histograms, and other types of charts.\n",
    "- **Pandas**: A python library used for working with data sets. It has functions for analyzing, cleaning, exploring, and manipulating data.\n",
    "- **Seaborn**: This python library helps users visualize data through statistical graphics.\n",
    "- **KDTree**: This python package can construct, modify and search kd-trees. A KD Tree is a space-partitioning data structure that organizes points in a k-dimensional space. It is particularly effective for multidimensional search operations such as range searches and nearest-neighbor searches. "
   ]
  },
  {
   "cell_type": "code",
   "execution_count": 3,
   "metadata": {},
   "outputs": [],
   "source": [
    "import numpy as np  \n",
    "import matplotlib.pyplot as plt \n",
    "from matplotlib.animation import FuncAnimation, PillowWriter # For animation\n",
    "import pandas as pd  \n",
    "import seaborn as sns\n",
    "from scipy.spatial import KDTree"
   ]
  },
  {
   "cell_type": "markdown",
   "metadata": {},
   "source": [
    "## Parameters"
   ]
  },
  {
   "cell_type": "markdown",
   "metadata": {},
   "source": [
    "### Consistency of Units in Calculations\n",
    "\n",
    "To avoid errors in our calculations, we will adhere to a consistent set of units for the following physical quanities:\n",
    "\n",
    "- Length/Distance: millimeters (mm)\n",
    "- Mass: kilograms (kg)\n",
    "- Time: microseconds (μs)"
   ]
  },
  {
   "cell_type": "code",
   "execution_count": 4,
   "metadata": {},
   "outputs": [],
   "source": [
    "\"\"\"\n",
    "    Consider a 2d square plate\n",
    "\"\"\"\n",
    "\n",
    "side_length = 50 # length of one side of the square plate\n",
    "nx = 40 # number of elements in x-direction\n",
    "ny = 40 # number of elements in y-direction\n",
    "\n",
    "\"\"\"\n",
    "    Assign other properties\n",
    "\"\"\"\n",
    "rho = 8e-6 # Material density in kg/mm^3\n",
    "Young_modulus = 19578.55  #  Young's Modulus in kg/mm^2\n",
    "nu = 0.3 # Poisson's Ratio\n",
    "K = Young_modulus/(3.0*(1-2.0*nu)) # Bulk modulus\n",
    "s0 = 0.02 # critical stretch\n",
    "total_time = 15\n",
    "del_T = .1\n",
    "time_steps = int(total_time/del_T)\n",
    "ntotal = nx * ny # Total number of nodes\n",
    "delta_x = 4*side_length / ntotal\n",
    "\n",
    "# Create nodes along both axis of the square plate\n",
    "nodes_xcoords = np.linspace(-side_length/2.0, side_length/2.0, nx)\n",
    "nodes_ycoords = np.linspace(-side_length/2.0, side_length/2.0, ny)\n",
    "y_max = nodes_ycoords[-1] # top boundary\n",
    "y_min = nodes_ycoords[0] # bottom boundary\n",
    "horizon = 5 \n",
    "\n",
    "# Initialize the array to store the coordinates of all the nodes\n",
    "coord_array = np.zeros((ntotal, 2))\n",
    "\n",
    "# volume of the element\n",
    "vol = (nodes_xcoords[1] - nodes_xcoords[0]) * (nodes_ycoords[1] - nodes_ycoords[0]) * 1.0\n",
    "\n",
    "# the list to store the indices of top and bottom nodes\n",
    "top_nodes = []\n",
    "bottom_nodes = []\n",
    "count = 0\n",
    "\n",
    "for i in range(nx):\n",
    "    for k in range(ny):\n",
    "\n",
    "        # Assign the coordinates to the current node\n",
    "        coord_array[count, 0] = nodes_xcoords[i]\n",
    "        coord_array[count, 1] = nodes_ycoords[k]\n",
    "\n",
    "        # Identify and store nodes on the top boundary (y = y_max)\n",
    "        if nodes_ycoords[i] == y_max:\n",
    "            bottom_nodes.append(count)\n",
    "\n",
    "        # Identify and store nodes on the bottom boundary (y = y_min)\n",
    "        if nodes_ycoords[i] == y_min:\n",
    "            top_nodes.append(count)\n",
    "        count = count + 1"
   ]
  },
  {
   "cell_type": "markdown",
   "metadata": {},
   "source": [
    "## Boundary Conditions"
   ]
  },
  {
   "cell_type": "markdown",
   "metadata": {},
   "source": [
    "<img src=\"fig5.png\" alt=\"Velocity applied to plate horizontal edges\" width=\"600\">"
   ]
  },
  {
   "cell_type": "code",
   "execution_count": 5,
   "metadata": {},
   "outputs": [
    {
     "name": "stdout",
     "output_type": "stream",
     "text": [
      "[ 0.02  0.02  0.02  0.02  0.02  0.02  0.02  0.02  0.02  0.02  0.02  0.02\n",
      "  0.02  0.02  0.02  0.02  0.02  0.02  0.02  0.02  0.02  0.02  0.02  0.02\n",
      "  0.02  0.02  0.02  0.02  0.02  0.02  0.02  0.02  0.02  0.02  0.02  0.02\n",
      "  0.02  0.02  0.02  0.02  0.02  0.02  0.02  0.02  0.02  0.02  0.02  0.02\n",
      "  0.02  0.02 -0.02 -0.02 -0.02 -0.02 -0.02 -0.02 -0.02 -0.02 -0.02 -0.02\n",
      " -0.02 -0.02 -0.02 -0.02 -0.02 -0.02 -0.02 -0.02 -0.02 -0.02 -0.02 -0.02\n",
      " -0.02 -0.02 -0.02 -0.02 -0.02 -0.02 -0.02 -0.02 -0.02 -0.02 -0.02 -0.02\n",
      " -0.02 -0.02 -0.02 -0.02 -0.02 -0.02 -0.02 -0.02 -0.02 -0.02 -0.02 -0.02\n",
      " -0.02 -0.02 -0.02 -0.02  0.    0.    0.    0.    0.    0.    0.    0.\n",
      "  0.    0.    0.    0.    0.    0.    0.    0.    0.    0.    0.    0.\n",
      "  0.    0.    0.    0.    0.    0.    0.    0.    0.    0.    0.    0.\n",
      "  0.    0.    0.    0.    0.    0.    0.    0.    0.    0.    0.    0.\n",
      "  0.    0.    0.    0.    0.    0.  ]\n"
     ]
    }
   ],
   "source": [
    "u_applied_05 = np.linspace(2e-2,2e-2,time_steps//3)\n",
    "u_applied_510 = np.linspace(-2e-2,-2e-2,time_steps//3)\n",
    "u_applied_1015 = np.linspace(0,0,time_steps//3)\n",
    "u_applied = np.concatenate((u_applied_05, u_applied_510, u_applied_1015))\n",
    "print(u_applied)"
   ]
  },
  {
   "cell_type": "markdown",
   "metadata": {},
   "source": [
    "## Neighborsearch\n",
    "\n",
    "We need to find for each node $x_p$ the neighborhood $H_\\delta(x_p)$ such that $H_\\delta(x_p)=\\lbrace i | \\Vert x_i - x_p \\Vert \\leq \\delta \\rbrace$."
   ]
  },
  {
   "cell_type": "code",
   "execution_count": 6,
   "metadata": {},
   "outputs": [],
   "source": [
    "def find_neighb_nodes_within_horizon(coord_array, horizon):\n",
    "    # Build the KDTree\n",
    "    tree = KDTree(coord_array)\n",
    "    \n",
    "    # Initialize the dictionary to store neighbors\n",
    "    neighbors_dict = {}\n",
    "    \n",
    "    # Iterate over each node to find neighbors\n",
    "    for i, coord in enumerate(coord_array):\n",
    "        # Query the KDTree for nodes within the horizon distance\n",
    "        indices = tree.query_ball_point(coord, horizon)\n",
    "        # Remove the node itself from its list of neighbors\n",
    "        neighbors_dict[i] = [index for index in indices if index != i]\n",
    "    \n",
    "    \n",
    "    return neighbors_dict\n",
    "\n",
    "neighbors_dict = find_neighb_nodes_within_horizon(coord_array, horizon)"
   ]
  },
  {
   "cell_type": "markdown",
   "metadata": {},
   "source": [
    "## Displacement Calculations"
   ]
  },
  {
   "cell_type": "code",
   "execution_count": 7,
   "metadata": {},
   "outputs": [],
   "source": [
    "# Initialize an array to store displacement vectors for each node at every time step\n",
    "u_vector_solution = np.zeros((time_steps, nx, ny))\n",
    "\n",
    "# Initialize an array to store the current displacement vector for each node\n",
    "u_vector_at_current_time_step = np.zeros((nx, ny))\n",
    "\n",
    "# Initialize the displacement vector at the future time step\n",
    "u_vector_at_future_time_step = np.zeros((nx, ny))\n",
    "\n",
    "# Initialize the displacement vector at the previous time step\n",
    "u_vector_at_previous_time_step = np.zeros((nx, ny))\n",
    "\n",
    "# Loop over each time step to calculate the displacement of nodes\n",
    "for n in range(1, time_steps):\n",
    "\n",
    "    # Calculate the elapsed time for the current time step\n",
    "    time_elapsed = n * del_T\n",
    "        \n",
    "    node_values = np.zeros((nx, ny))\n",
    "    \n",
    "    # Assign boundary condition to the top nodes\n",
    "    for index in top_nodes:\n",
    "        row = index // nx\n",
    "        column = index % ny\n",
    "        u_vector_at_current_time_step[row, column] = u_applied[n]\n",
    "        \n",
    "    # Assign boundary condition to the bottom nodes\n",
    "    for index in bottom_nodes:\n",
    "        row = index // nx\n",
    "        column = index % ny\n",
    "        u_vector_at_current_time_step[row, column] = -u_applied[n]\n",
    "\n",
    "\n",
    "    for x in range(nx):\n",
    "        for y in range(ny):\n",
    "\n",
    "            #Intialize the sum term\n",
    "            sum_term = 0\n",
    "            \n",
    "            # xi represents the value of the node at the current location\n",
    "            xi = u_vector_at_current_time_step[x][y] \n",
    "            xi_index = np.ravel_multi_index((x, y), u_vector_at_current_time_step.shape)\n",
    "            # Get the coordinates of the node at the current location (xi)\n",
    "            xi_locx = coord_array[xi_index][0] \n",
    "            xi_locy = coord_array[xi_index][1] \n",
    "\n",
    "            \"\"\"\n",
    "            We got the values for the ith nodes. Now get the neighboring nodes (xp).\n",
    "            \"\"\"        \n",
    "            # Get neighbors for xi that fall within its horizon\n",
    "            neighbors_of_xi = neighbors_dict[xi_index]\n",
    "\n",
    "            # Loop through each neighboring node\n",
    "            for p in neighbors_of_xi:\n",
    "                # Get the coordinates of the neighboring node (xp)\n",
    "                xp_locx = coord_array[p][0] \n",
    "                xp_locy = coord_array[p][1] \n",
    "                xp_index = p\n",
    "                xp_row_id = p // ny\n",
    "                xp_col_id = p % ny\n",
    "                xp = u_vector_at_current_time_step[xp_row_id, xp_col_id] \n",
    "\n",
    "                # Skip the current node itself (xi)\n",
    "                if xp_index == xi_index:\n",
    "                    continue\n",
    "\n",
    "                # Calculate the distance (ksi) between the xi and xp\n",
    "                ksi = np.sqrt((xp_locx-xi_locx)**2 + (xp_locy-xi_locy)**2)\n",
    "\n",
    "                # Calculate the difference in displacement (eta) between xi and xp\n",
    "                eta = xp - xi\n",
    "\n",
    "                # Calculate the material constant c based on bulk modulus K and horizon distance\n",
    "                c = (18*K)/(np.pi * horizon**4)\n",
    "\n",
    "                # Calculate the stretch s\n",
    "                s = ((np.abs(ksi+eta)) - np.abs(ksi))/np.abs(ksi)\n",
    "\n",
    "                # Determine the damage factor mu based on a threshold s0\n",
    "                if s > s0:\n",
    "                    mu = 0 # Set mu to 0 if stretch exceeds threshold, representing damage\n",
    "                else:\n",
    "                    mu = 1 # Set mu to 1 if no damage occurs   \n",
    "                \n",
    "                # calculate the summation term in the equation of motion\n",
    "                sum_term = sum_term + ((((ksi+eta)/np.abs(ksi+eta)) * c * s * mu)*vol) + 9.8e-9 #(body force = 9.8 m/s^2)\n",
    "            \n",
    "            # calculate the acceleration\n",
    "            acceleration = sum_term/rho\n",
    "\n",
    "            # using explicit central difference formula\n",
    "            u_vector_at_future_time_step[x,y] = (acceleration*del_T**2) + (2*u_vector_at_current_time_step[x,y]) - u_vector_at_previous_time_step[x, y]\n",
    "            \n",
    "            # update the array holding the vector solutions\n",
    "            u_vector_solution[n, x, y] = u_vector_at_current_time_step[x, y]\n",
    "\n",
    "    # update the arrays for the next iteration\n",
    "    u_vector_at_previous_time_step = u_vector_at_current_time_step.copy()\n",
    "    u_vector_at_current_time_step = u_vector_at_future_time_step.copy()"
   ]
  },
  {
   "cell_type": "code",
   "execution_count": 10,
   "metadata": {},
   "outputs": [
    {
     "data": {
      "image/png": "[encoded data removed]",
      "text/plain": [
       "<Figure size 576x576 with 2 Axes>"
      ]
     },
     "metadata": {
      "needs_background": "light"
     },
     "output_type": "display_data"
    }
   ],
   "source": [
    "# set the figure size\n",
    "fig, ax = plt.subplots(figsize=(8, 8))\n",
    "\n",
    "# Find the min and max values \n",
    "vmin, vmax = np.min(u_vector_solution), np.max(u_vector_solution)\n",
    "\n",
    "# Initialize with the first timestep\n",
    "heatmap = sns.heatmap(u_vector_solution[0, :, :], cmap='seismic', ax=ax, vmin=vmin, vmax=vmax)\n",
    "plt.title('u-displacement vs time')\n",
    "plt.xlabel('u-displacement in x-dir (mm)')\n",
    "plt.ylabel('u-displacement in y-dir (mm)')\n",
    "\n",
    "# update the frames\n",
    "def update(frame):\n",
    "    ax.clear()\n",
    "    heatmap = sns.heatmap(u_vector_solution[frame, :, :], cmap='seismic', ax=ax, vmin=vmin, vmax=vmax, cbar=False)\n",
    "    ax.set_title(f'u-displacement for time step {(frame + 1)/10} microseconds')\n",
    "    ax.set_xlabel('u-displacement in x-dir (mm)')\n",
    "    ax.set_ylabel('u-displacement in y-dir (mm)')\n",
    "\n",
    "# create the animation\n",
    "anim = FuncAnimation(fig, update, frames=u_vector_solution.shape[0], interval=200)\n",
    "\n",
    "# store the animation in .gif format\n",
    "anim.save('animation2dplate.gif', writer=PillowWriter(fps=5))\n",
    "\n",
    "plt.show()"
   ]
  },
  {
   "cell_type": "code",
   "execution_count": null,
   "metadata": {},
   "outputs": [],
   "source": []
  }
 ],
 "metadata": {
  "kernelspec": {
   "display_name": "base",
   "language": "python",
   "name": "python3"
  },
  "language_info": {
   "codemirror_mode": {
    "name": "ipython",
    "version": 3
   },
   "file_extension": ".py",
   "mimetype": "text/x-python",
   "name": "python",
   "nbconvert_exporter": "python",
   "pygments_lexer": "ipython3",
   "version": "3.9.7"
  }
 },
 "nbformat": 4,
 "nbformat_minor": 2
}
