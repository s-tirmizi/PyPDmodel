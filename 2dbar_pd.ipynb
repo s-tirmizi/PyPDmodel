{
 "cells": [
  {
   "cell_type": "code",
   "execution_count": 32,
   "metadata": {},
   "outputs": [],
   "source": [
    "import numpy as np  # Importing the NumPy library for numerical operations and handling arrays\n",
    "import matplotlib.pyplot as plt  # Importing the Pyplot module from Matplotlib for plotting and visualizations\n",
    "import pandas as pd\n",
    "import seaborn as sns\n",
    "from scipy.spatial import KDTree"
   ]
  },
  {
   "cell_type": "code",
   "execution_count": 261,
   "metadata": {},
   "outputs": [],
   "source": [
    "rho = 8e-6 #material density\n",
    "Young_modulus = 19578.55  # Everything in kg and mm\n",
    "nu = 0.3 #Poisson's Ratio\n",
    "K = Young_modulus/(3.0*(1-2.0*nu))\n",
    "horizon = 1.6\n",
    "s0 = 0.02\n",
    "total_time = 15\n",
    "del_T = .1\n",
    "time_steps = int(total_time/del_T)"
   ]
  },
  {
   "cell_type": "code",
   "execution_count": 277,
   "metadata": {},
   "outputs": [],
   "source": [
    "bar_length = 15\n",
    "number_of_elements = 7\n",
    "nx = number_of_elements\n",
    "ny = 1\n",
    "delta_x = bar_length / number_of_elements\n",
    "bulk_modulus = 100\n",
    "nodes = np.linspace(-bar_length/2.0, bar_length/2.0, number_of_elements)\n",
    "nodes_coords = np.column_stack((nodes, np.ones_like(nodes))) \n",
    "horizon = delta_x * 3.014\n",
    "vol = 1 #Assumption"
   ]
  },
  {
   "cell_type": "code",
   "execution_count": 278,
   "metadata": {},
   "outputs": [
    {
     "data": {
      "text/plain": [
       "array([2.5, 2.5, 2.5, 2.5, 2.5, 2.5])"
      ]
     },
     "execution_count": 278,
     "metadata": {},
     "output_type": "execute_result"
    }
   ],
   "source": [
    "lengths = (nodes[1:] - nodes[0:-1])\n",
    "lengths"
   ]
  },
  {
   "cell_type": "code",
   "execution_count": 279,
   "metadata": {},
   "outputs": [
    {
     "data": {
      "text/plain": [
       "array([[-7.5,  1. ],\n",
       "       [-5. ,  1. ],\n",
       "       [-2.5,  1. ],\n",
       "       [ 0. ,  1. ],\n",
       "       [ 2.5,  1. ],\n",
       "       [ 5. ,  1. ],\n",
       "       [ 7.5,  1. ]])"
      ]
     },
     "execution_count": 279,
     "metadata": {},
     "output_type": "execute_result"
    }
   ],
   "source": [
    "nodes_coords"
   ]
  },
  {
   "cell_type": "code",
   "execution_count": 280,
   "metadata": {},
   "outputs": [
    {
     "data": {
      "text/plain": [
       "[[0, 1, 2],\n",
       " [0, 1, 2, 3],\n",
       " [0, 1, 2, 3, 4],\n",
       " [1, 2, 3, 4, 5],\n",
       " [2, 3, 4, 5, 6],\n",
       " [3, 4, 5, 6],\n",
       " [4, 5, 6]]"
      ]
     },
     "execution_count": 280,
     "metadata": {},
     "output_type": "execute_result"
    }
   ],
   "source": [
    "tree= KDTree(nodes_coords)\n",
    "\n",
    "neighbors_within_horizons = tree.query_ball_tree(tree, horizon)\n",
    "\n",
    "neighbors_within_horizons"
   ]
  },
  {
   "cell_type": "code",
   "execution_count": 281,
   "metadata": {},
   "outputs": [
    {
     "data": {
      "text/plain": [
       "array([[ 0. , -7.5,  1. ],\n",
       "       [ 1. , -5. ,  1. ],\n",
       "       [ 2. , -2.5,  1. ],\n",
       "       [ 3. ,  0. ,  1. ],\n",
       "       [ 4. ,  2.5,  1. ],\n",
       "       [ 5. ,  5. ,  1. ],\n",
       "       [ 6. ,  7.5,  1. ]])"
      ]
     },
     "execution_count": 281,
     "metadata": {},
     "output_type": "execute_result"
    }
   ],
   "source": [
    "ids = np.arange(len(nodes))\n",
    "\n",
    "nodes_with_ids = np.column_stack((ids, nodes_coords))\n",
    "\n",
    "nodes_with_ids"
   ]
  },
  {
   "cell_type": "code",
   "execution_count": 282,
   "metadata": {},
   "outputs": [
    {
     "data": {
      "text/plain": [
       "array([[ 0. , -7.5,  1. ],\n",
       "       [ 1. , -5. ,  1. ],\n",
       "       [ 2. , -2.5,  1. ]])"
      ]
     },
     "execution_count": 282,
     "metadata": {},
     "output_type": "execute_result"
    }
   ],
   "source": [
    "#practice to access the coords of the neighboring nodes of node 1\n",
    "\n",
    "#Let\n",
    "node_index = 0\n",
    "neighbor_ids = tree.query_ball_point(nodes_coords[node_index], horizon)\n",
    "neighbor_nodes = nodes_with_ids[neighbor_ids]\n",
    "\n",
    "neighbor_nodes"
   ]
  },
  {
   "cell_type": "code",
   "execution_count": 283,
   "metadata": {},
   "outputs": [
    {
     "name": "stdout",
     "output_type": "stream",
     "text": [
      "[ 0.02  0.02  0.02  0.02  0.02  0.02  0.02  0.02  0.02  0.02  0.02  0.02\n",
      "  0.02  0.02  0.02  0.02  0.02  0.02  0.02  0.02  0.02  0.02  0.02  0.02\n",
      "  0.02  0.02  0.02  0.02  0.02  0.02  0.02  0.02  0.02  0.02  0.02  0.02\n",
      "  0.02  0.02  0.02  0.02  0.02  0.02  0.02  0.02  0.02  0.02  0.02  0.02\n",
      "  0.02  0.02 -0.02 -0.02 -0.02 -0.02 -0.02 -0.02 -0.02 -0.02 -0.02 -0.02\n",
      " -0.02 -0.02 -0.02 -0.02 -0.02 -0.02 -0.02 -0.02 -0.02 -0.02 -0.02 -0.02\n",
      " -0.02 -0.02 -0.02 -0.02 -0.02 -0.02 -0.02 -0.02 -0.02 -0.02 -0.02 -0.02\n",
      " -0.02 -0.02 -0.02 -0.02 -0.02 -0.02 -0.02 -0.02 -0.02 -0.02 -0.02 -0.02\n",
      " -0.02 -0.02 -0.02 -0.02  0.    0.    0.    0.    0.    0.    0.    0.\n",
      "  0.    0.    0.    0.    0.    0.    0.    0.    0.    0.    0.    0.\n",
      "  0.    0.    0.    0.    0.    0.    0.    0.    0.    0.    0.    0.\n",
      "  0.    0.    0.    0.    0.    0.    0.    0.    0.    0.    0.    0.\n",
      "  0.    0.    0.    0.    0.    0.  ]\n"
     ]
    }
   ],
   "source": [
    "\"\"\"\n",
    "    velocity is given as boundary condition, therefore, convert it to displacement first.\n",
    "\"\"\"\n",
    "u_applied_05 = np.linspace(2e-2,2e-2,time_steps//3)\n",
    "u_applied_510 = np.linspace(-2e-2,-2e-2,time_steps//3)\n",
    "u_applied_1015 = np.linspace(0,0,time_steps//3)\n",
    "u_applied = np.concatenate((u_applied_05, u_applied_510, u_applied_1015))\n",
    "print(u_applied)"
   ]
  },
  {
   "cell_type": "code",
   "execution_count": 284,
   "metadata": {},
   "outputs": [
    {
     "name": "stdout",
     "output_type": "stream",
     "text": [
      "Shape for u_vector_solution:  (150, 7, 1)\n",
      "Shape for u_vector_at_current_time_step:  (7, 1)\n"
     ]
    },
    {
     "name": "stderr",
     "output_type": "stream",
     "text": [
      "C:\\Users\\st35345\\AppData\\Local\\Temp/ipykernel_63272/3595275137.py:75: DeprecationWarning: Conversion of an array with ndim > 0 to a scalar is deprecated, and will error in future. Ensure you extract a single element from your array before performing this operation. (Deprecated NumPy 1.25.)\n",
      "  u_vector_at_future_time_step[x,y] = (acceleration*del_T**2) + (2*u_vector_at_current_time_step[x,y]) - u_vector_at_previous_time_step[x, y]\n"
     ]
    }
   ],
   "source": [
    "u_vector_solution = np.zeros((time_steps, nx, ny))\n",
    "print(\"Shape for u_vector_solution: \", u_vector_solution.shape)\n",
    "\n",
    "u_vector_at_current_time_step = np.zeros((nx, ny))\n",
    "print(\"Shape for u_vector_at_current_time_step: \", u_vector_at_current_time_step.shape)\n",
    "\n",
    "u_vector_at_future_time_step = np.zeros((nx, ny))\n",
    "\n",
    "u_vector_at_previous_time_step = np.zeros((nx, ny))\n",
    "\n",
    "for n in range(0, time_steps):\n",
    "\n",
    "    time_elapsed = n * del_T\n",
    "\n",
    "    #print(\"Time elapsed: \", time_elapsed)\n",
    "    \n",
    "    # select the start and end position for the nodes based on the horizon\n",
    "    start_position = -bar_length/2.0\n",
    "    end_position = bar_length/2.0\n",
    "\n",
    "    node_values = np.zeros((nx, ny))\n",
    "    \n",
    "    for i in range(len(nodes)):\n",
    "        if abs(nodes[i] - start_position) <= horizon or abs(nodes[i] - end_position) <= horizon:\n",
    "            node_values[i, 0] = u_applied[n]\n",
    "    \n",
    "    for x in range(nx):\n",
    "        for y in range(ny):\n",
    "\n",
    "            sum_term = 0\n",
    "            \n",
    "            # xi = value of the node at ith location\n",
    "            xi = node_values[x][y]\n",
    "            xi_index = int(nodes_with_ids[x][0])\n",
    "            \n",
    "            # get value of the node at ith location\n",
    "            xi_locx = nodes_coords[x][0]\n",
    "            xi_locy = nodes_coords[x][1]\n",
    "\n",
    "            \"\"\"\n",
    "            We got the values for the ith nodes. Now fetch x_p nodes and use them in the equation of motion\n",
    "            \"\"\"\n",
    "\n",
    "            # First find the neighboring nodes for the node at ith location\n",
    "            node_index = int(nodes_with_ids[x][0])\n",
    "            neighbor_ids = tree.query_ball_point(nodes_coords[node_index], horizon)\n",
    "            #neighbor_nodes = nodes_with_ids[neighbor_ids]\n",
    "\n",
    "            for p in range(len(neighbor_ids)):\n",
    "                xp_locx = int(nodes_coords[p][0])\n",
    "                xp_locy = int(nodes_coords[p][1])\n",
    "                xp_index = int(nodes_with_ids[p][0])\n",
    "                xp = node_values[xp_index]\n",
    "                xp_index = int(nodes_with_ids[p][0])\n",
    "                if xp_index == xi_index:\n",
    "                    continue\n",
    "                ksi = np.sqrt((xp_locx-xi_locx)**2 + (xp_locy-xi_locy)**2)\n",
    "\n",
    "                eta = xp - xi\n",
    "\n",
    "                c = (18*K)/(np.pi * horizon**4)\n",
    "\n",
    "                s = ((np.abs(ksi+eta)) - np.abs(ksi))/np.abs(ksi)\n",
    "\n",
    "                if s > s0:\n",
    "                    mu = 0\n",
    "                else:\n",
    "                    mu = 1    \n",
    "                \n",
    "                sum_term = sum_term + ((((ksi+eta)/np.abs(ksi+eta)) * c * s * mu)*vol) #+ 9.8e-9 #(body force = 9.8 m/s^2)\n",
    "                #print(sum_term)\n",
    "\n",
    "                acceleration = sum_term/rho\n",
    "\n",
    "        u_vector_at_future_time_step[x,y] = (acceleration*del_T**2) + (2*u_vector_at_current_time_step[x,y]) - u_vector_at_previous_time_step[x, y]\n",
    "\n",
    "        u_vector_solution[n, x, y] = u_vector_at_current_time_step[x, y]\n",
    "\n",
    "    u_vector_at_previous_time_step = u_vector_at_current_time_step.copy()\n",
    "    u_vector_at_current_time_step = u_vector_at_future_time_step.copy()\n"
   ]
  },
  {
   "cell_type": "code",
   "execution_count": 290,
   "metadata": {},
   "outputs": [
    {
     "data": {
      "image/png": "[encoded data removed]",
      "text/plain": [
       "<Figure size 1440x216 with 2 Axes>"
      ]
     },
     "metadata": {
      "needs_background": "light"
     },
     "output_type": "display_data"
    }
   ],
   "source": [
    "import numpy as np\n",
    "import matplotlib.pyplot as plt\n",
    "import seaborn as sns\n",
    "from matplotlib.animation import FuncAnimation, PillowWriter\n",
    "\n",
    "# Assuming 'array' is your data with shape (30, 50, 50)\n",
    "# Set up the figure and axis\n",
    "fig, ax = plt.subplots(figsize=(20, 3))\n",
    "\n",
    "# Find the min and max values in the data for consistent scaling\n",
    "vmin = np.min(u_vector_solution)\n",
    "vmax = np.max(u_vector_solution)\n",
    "\n",
    "# Initialize the heatmap with the first timestep\n",
    "heatmap = sns.heatmap(u_vector_solution[0, :, :].reshape(1, -1), cmap='seismic', ax=ax, vmin=vmin, vmax=vmax)\n",
    "plt.title('Heatmap of u-displacement Over Time')\n",
    "plt.xlabel('u-displacement in X-direction')\n",
    "plt.ylabel('u-displacement in Y-direction')\n",
    "\n",
    "# Function to update the heatmap for each frame in the animation\n",
    "def update(frame):\n",
    "    ax.clear()\n",
    "    heatmap = sns.heatmap(u_vector_solution[frame, :, :].reshape(1, -1), cmap='seismic', ax=ax, vmin=vmin, vmax=vmax, cbar=False)\n",
    "    ax.set_title(f'u-displacement for Time Step {(frame + 1)/10}')\n",
    "    ax.set_xlabel('u-displacement in X-direction')\n",
    "    ax.set_ylabel('u-displacement in Y-direction')\n",
    "\n",
    "# Create the animation\n",
    "anim = FuncAnimation(fig, update, frames=u_vector_solution.shape[0], interval=200)\n",
    "\n",
    "# Save the animation as a GIF\n",
    "anim.save('animation1.gif', writer=PillowWriter(fps=5))\n",
    "\n",
    "# Alternatively, display the animation\n",
    "plt.show()"
   ]
  }
 ],
 "metadata": {
  "kernelspec": {
   "display_name": "base",
   "language": "python",
   "name": "python3"
  },
  "language_info": {
   "codemirror_mode": {
    "name": "ipython",
    "version": 3
   },
   "file_extension": ".py",
   "mimetype": "text/x-python",
   "name": "python",
   "nbconvert_exporter": "python",
   "pygments_lexer": "ipython3",
   "version": "3.9.7"
  }
 },
 "nbformat": 4,
 "nbformat_minor": 2
}
