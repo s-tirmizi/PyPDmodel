{
 "cells": [
  {
   "cell_type": "markdown",
   "metadata": {},
   "source": [
    "# 1-Dimensional Peridynamic code for a single bar with displacement boundary conditions at either end"
   ]
  },
  {
   "cell_type": "markdown",
   "metadata": {},
   "source": [
    "Silling, S. A., & Askari, E. (2005). *A meshfree method based on the peridynamic model of solid mechanics*. *Computers & Structures, 83*(17-18), 1526-1535. https://doi.org/10.1016/j.compstruc.2004.11.026"
   ]
  },
  {
   "cell_type": "markdown",
   "metadata": {},
   "source": [
    "1DPDpy: https://github.com/johntfoster/1DPDpy"
   ]
  },
  {
   "cell_type": "markdown",
   "metadata": {},
   "source": [
    "## Setup"
   ]
  },
  {
   "cell_type": "markdown",
   "metadata": {},
   "source": [
    "In this section, we will import the python libraries:\n",
    "\n",
    "- **NumPy**: This library is fundamental for numerical computations in Python. It provides support for arrays, matrices, and many mathematical functions that operate on these data structures.\n",
    "- **Matplotlib**: A plotting library for creating static, animated, and interactive visualizations in Python. It's particularly useful for generating plots, histograms, and other types of charts.\n",
    "- **Pandas**: A python library used for working with data sets. It has functions for analyzing, cleaning, exploring, and manipulating data.\n",
    "- **Seaborn**: This python library helps users visualize data through statistical graphics.\n",
    "- **KDTree**: This python package can construct, modify and search kd-trees. A KD Tree is a space-partitioning data structure that organizes points in a k-dimensional space. It is particularly effective for multidimensional search operations such as range searches and nearest-neighbor searches. "
   ]
  },
  {
   "cell_type": "code",
   "execution_count": 2,
   "metadata": {},
   "outputs": [],
   "source": [
    "import numpy as np  \n",
    "import matplotlib.pyplot as plt \n",
    "from matplotlib.animation import FuncAnimation, PillowWriter # For animation\n",
    "import pandas as pd  \n",
    "import seaborn as sns\n",
    "from scipy.spatial import KDTree"
   ]
  },
  {
   "cell_type": "markdown",
   "metadata": {},
   "source": [
    "## Parameters"
   ]
  },
  {
   "cell_type": "markdown",
   "metadata": {},
   "source": [
    "### Consistency of Units in Calculations\n",
    "\n",
    "To avoid errors in our calculations, we will adhere to a consistent set of units for the following physical quanities:\n",
    "\n",
    "- Length/Distance: millimeters (mm)\n",
    "- Mass: kilograms (kg)\n",
    "- Time: microseconds (μs)"
   ]
  },
  {
   "cell_type": "code",
   "execution_count": 3,
   "metadata": {},
   "outputs": [],
   "source": [
    "rho = 8e-6 #material density\n",
    "Young_modulus = 19578.55 \n",
    "nu = 0.3 #Poisson's Ratio\n",
    "K = Young_modulus/(3.0*(1-2.0*nu)) \n",
    "horizon = 1.6\n",
    "s0 = 0.02 # critical stretch \n",
    "total_time = 15 \n",
    "del_T = .1 \n",
    "time_steps = int(total_time/del_T)\n",
    "bar_length = 15\n",
    "number_of_elements = 7\n",
    "nx = number_of_elements\n",
    "ny = 1\n",
    "delta_x = bar_length / number_of_elements\n",
    "# specify nodes along the bar in 1 dimension\n",
    "nodes = np.linspace(-bar_length/2.0, bar_length/2.0, number_of_elements)\n",
    "# find the coordinates of the nodes along the length of the bar\n",
    "nodes_coords = np.column_stack((nodes, np.ones_like(nodes))) \n",
    "# define horizon \n",
    "horizon = delta_x * 3.014\n",
    "vol = 1 #assumption"
   ]
  },
  {
   "cell_type": "code",
   "execution_count": 4,
   "metadata": {},
   "outputs": [
    {
     "data": {
      "text/plain": [
       "array([[ 0. , -7.5,  1. ],\n",
       "       [ 1. , -5. ,  1. ],\n",
       "       [ 2. , -2.5,  1. ],\n",
       "       [ 3. ,  0. ,  1. ],\n",
       "       [ 4. ,  2.5,  1. ],\n",
       "       [ 5. ,  5. ,  1. ],\n",
       "       [ 6. ,  7.5,  1. ]])"
      ]
     },
     "execution_count": 4,
     "metadata": {},
     "output_type": "execute_result"
    }
   ],
   "source": [
    "# Create an array of IDs for each node\n",
    "ids = np.arange(len(nodes))\n",
    "\n",
    "# Combine the IDs with the node coordinates, stacking them column-wise\n",
    "nodes_with_ids = np.column_stack((ids, nodes_coords))\n",
    "\n",
    "nodes_with_ids"
   ]
  },
  {
   "cell_type": "markdown",
   "metadata": {},
   "source": [
    "## Boundary Conditions"
   ]
  },
  {
   "cell_type": "markdown",
   "metadata": {},
   "source": [
    "<img src=\"fig5.png\" alt=\"Velocity applied to plate horizontal edges\" width=\"600\">"
   ]
  },
  {
   "cell_type": "code",
   "execution_count": 5,
   "metadata": {},
   "outputs": [],
   "source": [
    "\"\"\"\n",
    "    Boundary conditions\n",
    "\"\"\"\n",
    "u_applied_05 = np.linspace(2e-2,2e-2,time_steps//3)\n",
    "u_applied_510 = np.linspace(-2e-2,-2e-2,time_steps//3)\n",
    "u_applied_1015 = np.linspace(0,0,time_steps//3)\n",
    "u_applied = np.concatenate((u_applied_05, u_applied_510, u_applied_1015))"
   ]
  },
  {
   "cell_type": "markdown",
   "metadata": {},
   "source": [
    "## Displacement calculations"
   ]
  },
  {
   "cell_type": "code",
   "execution_count": 6,
   "metadata": {},
   "outputs": [
    {
     "name": "stdout",
     "output_type": "stream",
     "text": [
      "Shape for u_vector_solution:  (150, 7, 1)\n",
      "Shape for u_vector_at_current_time_step:  (7, 1)\n"
     ]
    },
    {
     "name": "stderr",
     "output_type": "stream",
     "text": [
      "C:\\Users\\st35345\\AppData\\Local\\Temp/ipykernel_11620/298607520.py:95: DeprecationWarning: Conversion of an array with ndim > 0 to a scalar is deprecated, and will error in future. Ensure you extract a single element from your array before performing this operation. (Deprecated NumPy 1.25.)\n",
      "  u_vector_at_future_time_step[x,y] = (acceleration*del_T**2) + (2*u_vector_at_current_time_step[x,y]) - u_vector_at_previous_time_step[x, y]\n"
     ]
    }
   ],
   "source": [
    "# Initialize an array to store displacement vectors for each node at every time step\n",
    "u_vector_solution = np.zeros((time_steps, nx, ny))\n",
    "print(\"Shape for u_vector_solution: \", u_vector_solution.shape)\n",
    "\n",
    "# Initialize an array to store the current displacement vector for each node\n",
    "u_vector_at_current_time_step = np.zeros((nx, ny))\n",
    "print(\"Shape for u_vector_at_current_time_step: \", u_vector_at_current_time_step.shape)\n",
    "\n",
    "# Initialize the displacement vector at the future time step\n",
    "u_vector_at_future_time_step = np.zeros((nx, ny))\n",
    "\n",
    "# Initialize the displacement vector at the previous time step\n",
    "u_vector_at_previous_time_step = np.zeros((nx, ny))\n",
    "\n",
    "# Loop over each time step to calculate the displacement of nodes\n",
    "for n in range(0, time_steps):\n",
    "\n",
    "    # Calculate the elapsed time for the current time step\n",
    "    time_elapsed = n * del_T\n",
    "    \n",
    "    # Define the start and end positions for the nodes based on the horizon\n",
    "    start_position = -bar_length/2.0\n",
    "    end_position = bar_length/2.0\n",
    "\n",
    "    # Initialize the node values for the current time step\n",
    "    node_values = np.zeros((nx, ny))\n",
    "    \n",
    "    # Assign boundary conditions to nodes at the start and end positions within the horizon\n",
    "    for i in range(len(nodes)):\n",
    "        if abs(nodes[i] - start_position) <= horizon or abs(nodes[i] - end_position) <= horizon:\n",
    "            node_values[i, 0] = u_applied[n] # Apply the boundary condition\n",
    "    \n",
    "    # Loop over all nodes in the grid\n",
    "    for x in range(nx):\n",
    "        for y in range(ny):\n",
    "\n",
    "            # Initialize the sum term \n",
    "            sum_term = 0\n",
    "            \n",
    "            # xi represents the value of the node at the current location\n",
    "            xi = node_values[x][y]\n",
    "            xi_index = int(nodes_with_ids[x][0])\n",
    "            \n",
    "            # Get the coordinates of the node at the current location (xi)\n",
    "            xi_locx = nodes_coords[x][0]\n",
    "            xi_locy = nodes_coords[x][1]\n",
    "\n",
    "            \"\"\"\n",
    "            We got the values for the ith nodes. Now get the neighboring nodes (xp).\n",
    "            \"\"\"\n",
    "\n",
    "            # Find the neighboring nodes for xi\n",
    "            node_index = int(nodes_with_ids[x][0])\n",
    "            tree= KDTree(nodes_coords)\n",
    "            neighbor_ids = tree.query_ball_point(nodes_coords[node_index], horizon)\n",
    "\n",
    "            # Loop through each neighboring node\n",
    "            for p in range(len(neighbor_ids)):\n",
    "                # Get the coordinates of the neighboring node (xp)\n",
    "                xp_locx = int(nodes_coords[p][0])\n",
    "                xp_locy = int(nodes_coords[p][1])\n",
    "                xp_index = int(nodes_with_ids[p][0])\n",
    "                xp = node_values[xp_index]\n",
    "                xp_index = int(nodes_with_ids[p][0])\n",
    "\n",
    "                # Skip the current node itself (xi)\n",
    "                if xp_index == xi_index:\n",
    "                    continue\n",
    "\n",
    "                # Calculate the distance (ksi) between the xi and xp\n",
    "                ksi = np.sqrt((xp_locx-xi_locx)**2 + (xp_locy-xi_locy)**2)\n",
    "\n",
    "                # Calculate the difference in displacement (eta) between xi and xp\n",
    "                eta = xp - xi\n",
    "\n",
    "                # Calculate the material constant c based on bulk modulus K and horizon distance    \n",
    "                c = (18*K)/(np.pi * horizon**4)\n",
    "\n",
    "                # Calculate the stretch s\n",
    "                s = ((np.abs(ksi+eta)) - np.abs(ksi))/np.abs(ksi)\n",
    "\n",
    "                # Determine the damage factor mu based on a threshold s0\n",
    "                if s > s0:\n",
    "                    mu = 0  # Set mu to 0 if stretch exceeds threshold, representing damage\n",
    "                else:\n",
    "                    mu = 1  # Set mu to 1 if no damage occurs\n",
    "                \n",
    "                # calculate the summation term in the equation of motion\n",
    "                sum_term = sum_term + ((((ksi+eta)/np.abs(ksi+eta)) * c * s * mu)*vol) + 9.8e-9 #(body force = 9.8 m/s^2)\n",
    "\n",
    "                # calculate the acceleration\n",
    "                acceleration = sum_term/rho\n",
    "\n",
    "        # using explicit central difference formula\n",
    "        u_vector_at_future_time_step[x,y] = (acceleration*del_T**2) + (2*u_vector_at_current_time_step[x,y]) - u_vector_at_previous_time_step[x, y]\n",
    "\n",
    "        # update the array holding the vector solutions\n",
    "        u_vector_solution[n, x, y] = u_vector_at_current_time_step[x, y]\n",
    "\n",
    "    # update the arrays for the next iteration\n",
    "    u_vector_at_previous_time_step = u_vector_at_current_time_step.copy()\n",
    "    u_vector_at_current_time_step = u_vector_at_future_time_step.copy()"
   ]
  },
  {
   "cell_type": "markdown",
   "metadata": {},
   "source": [
    "## Result Output"
   ]
  },
  {
   "cell_type": "code",
   "execution_count": 8,
   "metadata": {},
   "outputs": [
    {
     "data": {
      "image/png": "[encoded data removed]",
      "text/plain": [
       "<Figure size 1440x216 with 2 Axes>"
      ]
     },
     "metadata": {
      "needs_background": "light"
     },
     "output_type": "display_data"
    }
   ],
   "source": [
    "# set the figure size\n",
    "fig, ax = plt.subplots(figsize=(20, 3))\n",
    "\n",
    "# Find the min and max values \n",
    "vmin, vmax = np.min(u_vector_solution), np.max(u_vector_solution)\n",
    "\n",
    "# Initialize with the first timestep\n",
    "heatmap = sns.heatmap(u_vector_solution[0, :, :].reshape(1, -1), cmap='seismic', ax=ax, vmin=vmin, vmax=vmax)\n",
    "plt.title('u-displacement vs time')\n",
    "plt.xlabel('u-displacement in x-dir (mm)')\n",
    "plt.ylabel('u-displacement in y-dir (mm)')\n",
    "\n",
    "# update the frames\n",
    "def update(frame):\n",
    "    ax.clear()\n",
    "    heatmap = sns.heatmap(u_vector_solution[frame, :, :].reshape(1, -1), cmap='seismic', ax=ax, vmin=vmin, vmax=vmax, cbar=False)\n",
    "    ax.set_title(f'u-displacement for time step {(frame + 1)/10} microseconds')\n",
    "    ax.set_xlabel('u-displacement in x-dir (mm)')\n",
    "    ax.set_ylabel('u-displacement in y-dir (mm)')\n",
    "\n",
    "# create the animation\n",
    "anim = FuncAnimation(fig, update, frames=u_vector_solution.shape[0], interval=200)\n",
    "\n",
    "# store the animation in .gif format\n",
    "anim.save('animation1dbar.gif', writer=PillowWriter(fps=5))\n",
    "\n",
    "plt.show()"
   ]
  },
  {
   "cell_type": "code",
   "execution_count": null,
   "metadata": {},
   "outputs": [],
   "source": []
  }
 ],
 "metadata": {
  "kernelspec": {
   "display_name": "base",
   "language": "python",
   "name": "python3"
  },
  "language_info": {
   "codemirror_mode": {
    "name": "ipython",
    "version": 3
   },
   "file_extension": ".py",
   "mimetype": "text/x-python",
   "name": "python",
   "nbconvert_exporter": "python",
   "pygments_lexer": "ipython3",
   "version": "3.9.7"
  }
 },
 "nbformat": 4,
 "nbformat_minor": 2
}
